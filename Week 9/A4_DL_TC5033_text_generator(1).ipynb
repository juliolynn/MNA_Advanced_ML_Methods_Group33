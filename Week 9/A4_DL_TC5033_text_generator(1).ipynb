{
 "cells": [
  {
   "cell_type": "markdown",
   "metadata": {},
   "source": [
    "#**Maestría en Inteligencia Artificial Aplicada**\n",
    "##**Advanced Machine Learning Methods (Gpo 10)**\n",
    "###Tecnológico de Monterrey\n",
    "###Profesor Ph.D. José Antonio Cantoral Ceballos\n",
    "\n",
    "## **Activity 4**\n",
    "\n",
    "### Text Generator\n",
    "\n",
    "##**Team 33**:\n",
    "\n",
    "### Humberto Lozano Cedillo A01363184\n",
    "### Julio Cesar Lynn Jimenez A01793660\n",
    "### Sarah Mendoza Medina A01215352\n",
    "### David Mireles Samaniego A01302935"
   ]
  },
  {
   "cell_type": "markdown",
   "id": "037e89c8",
   "metadata": {},
   "source": [
    "## TC 5033\n",
    "### Text Generation\n",
    "\n",
    "<br>\n",
    "\n",
    "#### Activity 4: Building a Simple LSTM Text Generator using WikiText-2\n",
    "<br>\n",
    "\n",
    "- Objective:\n",
    "    - Gain a fundamental understanding of Long Short-Term Memory (LSTM) networks.\n",
    "    - Develop hands-on experience with sequence data processing and text generation in PyTorch. Given the simplicity of the model, amount of data, and computer resources, the text you generate will not replace ChatGPT, and results must likely will not make a lot of sense. Its only purpose is academic and to understand the text generation using RNNs.\n",
    "    - Enhance code comprehension and documentation skills by commenting on provided starter code.\n",
    "    \n",
    "<br>\n",
    "\n",
    "- Instructions:\n",
    "    - Code Understanding: Begin by thoroughly reading and understanding the code. Comment each section/block of the provided code to demonstrate your understanding. For this, you are encouraged to add cells with experiments to improve your understanding\n",
    "\n",
    "    - Model Overview: The starter code includes an LSTM model setup for sequence data processing. Familiarize yourself with the model architecture and its components. Once you are familiar with the provided model, feel free to change the model to experiment.\n",
    "\n",
    "    - Training Function: Implement a function to train the LSTM model on the WikiText-2 dataset. This function should feed the training data into the model and perform backpropagation. \n",
    "\n",
    "    - Text Generation Function: Create a function that accepts starting text (seed text) and a specified total number of words to generate. The function should use the trained model to generate a continuation of the input text.\n",
    "\n",
    "    - Code Commenting: Ensure that all the provided starter code is well-commented. Explain the purpose and functionality of each section, indicating your understanding.\n",
    "\n",
    "    - Submission: Submit your Jupyter Notebook with all sections completed and commented. Include a markdown cell with the full names of all contributing team members at the beginning of the notebook.\n",
    "    \n",
    "<br>\n",
    "\n",
    "- Evaluation Criteria:\n",
    "    - Code Commenting (60%): The clarity, accuracy, and thoroughness of comments explaining the provided code. You are suggested to use markdown cells for your explanations.\n",
    "\n",
    "    - Training Function Implementation (20%): The correct implementation of the training function, which should effectively train the model.\n",
    "\n",
    "    - Text Generation Functionality (10%): A working function is provided in comments. You are free to use it as long as you make sure to uderstand it, you may as well improve it as you see fit. The minimum expected is to provide comments for the given function. \n",
    "\n",
    "    - Conclusions (10%): Provide some final remarks specifying the differences you notice between this model and the one used  for classification tasks. Also comment on changes you made to the model, hyperparameters, and any other information you consider relevant. Also, please provide 3 examples of generated texts.\n",
    "\n"
   ]
  },
  {
   "cell_type": "code",
   "execution_count": 4,
   "id": "3eb4b117",
   "metadata": {},
   "outputs": [],
   "source": [
    "import numpy as np\n",
    "#PyTorch libraries\n",
    "import torch\n",
    "import torchtext\n",
    "from torchtext.datasets import WikiText2\n",
    "# Dataloader library\n",
    "from torch.utils.data import DataLoader, TensorDataset\n",
    "from torch.utils.data.dataset import random_split\n",
    "# Libraries to prepare the data\n",
    "from torchtext.data.utils import get_tokenizer\n",
    "from torchtext.vocab import build_vocab_from_iterator\n",
    "from torchtext.data.functional import to_map_style_dataset\n",
    "# neural layers\n",
    "from torch import nn\n",
    "from torch.nn import functional as F\n",
    "import torch.optim as optim\n",
    "from tqdm import tqdm\n",
    "\n",
    "import random\n",
    "import time"
   ]
  },
  {
   "cell_type": "code",
   "execution_count": 5,
   "id": "6d8ff971",
   "metadata": {},
   "outputs": [],
   "source": [
    "device = 'cuda' if torch.cuda.is_available() else 'cpu'"
   ]
  },
  {
   "cell_type": "code",
   "execution_count": 6,
   "id": "f3288ce5",
   "metadata": {},
   "outputs": [],
   "source": [
    "train_dataset, val_dataset, test_dataset = WikiText2()"
   ]
  },
  {
   "cell_type": "code",
   "execution_count": 7,
   "id": "fc4c7dbd",
   "metadata": {},
   "outputs": [],
   "source": [
    "tokeniser = get_tokenizer('basic_english')\n",
    "def yield_tokens(data):\n",
    "    for text in data:\n",
    "        yield tokeniser(text)"
   ]
  },
  {
   "cell_type": "code",
   "execution_count": 8,
   "id": "2c2cb068",
   "metadata": {},
   "outputs": [],
   "source": [
    "# Build the vocabulary\n",
    "vocab = build_vocab_from_iterator(yield_tokens(train_dataset), specials=[\"<unk>\", \"<pad>\", \"<bos>\", \"<eos>\"])\n",
    "#set unknown token at position 0\n",
    "vocab.set_default_index(vocab[\"<unk>\"])"
   ]
  },
  {
   "cell_type": "code",
   "execution_count": 9,
   "id": "134b832b",
   "metadata": {},
   "outputs": [],
   "source": [
    "seq_length = 50\n",
    "def data_process(raw_text_iter, seq_length = 50):\n",
    "    data = [torch.tensor(vocab(tokeniser(item)), dtype=torch.long) for item in raw_text_iter]\n",
    "    data = torch.cat(tuple(filter(lambda t: t.numel() > 0, data))) #remove empty tensors\n",
    "#     target_data = torch.cat(d)\n",
    "    return (data[:-(data.size(0)%seq_length)].view(-1, seq_length), \n",
    "            data[1:-(data.size(0)%seq_length-1)].view(-1, seq_length))  \n",
    "\n",
    "# # Create tensors for the training set\n",
    "x_train, y_train = data_process(train_dataset, seq_length)\n",
    "x_val, y_val = data_process(val_dataset, seq_length)\n",
    "x_test, y_test = data_process(test_dataset, seq_length)"
   ]
  },
  {
   "cell_type": "code",
   "execution_count": 10,
   "id": "4b54c04d",
   "metadata": {},
   "outputs": [],
   "source": [
    "train_dataset = TensorDataset(x_train, y_train)\n",
    "val_dataset = TensorDataset(x_val, y_val)\n",
    "test_dataset = TensorDataset(x_test, y_test)"
   ]
  },
  {
   "cell_type": "code",
   "execution_count": 11,
   "id": "f4d400fb",
   "metadata": {},
   "outputs": [],
   "source": [
    "batch_size = 64  # choose a batch size that fits your computation resources\n",
    "train_loader = DataLoader(train_dataset, batch_size=batch_size, shuffle=True, drop_last=True)\n",
    "val_loader = DataLoader(val_dataset, batch_size=batch_size, shuffle=True, drop_last=True)\n",
    "test_loader = DataLoader(test_dataset, batch_size=batch_size, shuffle=True, drop_last=True)"
   ]
  },
  {
   "cell_type": "code",
   "execution_count": 12,
   "id": "59c63b01",
   "metadata": {},
   "outputs": [],
   "source": [
    "# Define the LSTM model\n",
    "# Feel free to experiment\n",
    "class LSTMModel(nn.Module):\n",
    "    def __init__(self, vocab_size, embed_size, hidden_size, num_layers):\n",
    "        super(LSTMModel, self).__init__()\n",
    "        self.embeddings = nn.Embedding(vocab_size, embed_size)\n",
    "        self.hidden_size = hidden_size\n",
    "        self.num_layers = num_layers\n",
    "        self.lstm = nn.LSTM(embed_size, hidden_size, num_layers, batch_first=True)\n",
    "        self.fc = nn.Linear(hidden_size, vocab_size)\n",
    "\n",
    "    def forward(self, text, hidden):\n",
    "        embeddings = self.embeddings(text)\n",
    "        output, hidden = self.lstm(embeddings, hidden)\n",
    "        decoded = self.fc(output)\n",
    "        return decoded, hidden\n",
    "\n",
    "    def init_hidden(self, batch_size):\n",
    "\n",
    "        return (torch.zeros(self.num_layers, batch_size, self.hidden_size).to(device),\n",
    "                torch.zeros(self.num_layers, batch_size, self.hidden_size).to(device))\n",
    "\n",
    "\n",
    "\n",
    "vocab_size = len(vocab) # vocabulary size\n",
    "emb_size = 300 # embedding size\n",
    "neurons = 128 # the dimension of the feedforward network model, i.e. # of neurons \n",
    "num_layers = 2 # the number of nn.LSTM layers\n",
    "model = LSTMModel(vocab_size, emb_size, neurons, num_layers)\n"
   ]
  },
  {
   "cell_type": "code",
   "execution_count": 25,
   "metadata": {},
   "outputs": [],
   "source": [
    "def accuracy(model, loader):\n",
    "    model.eval()\n",
    "    total_acc, total_count = 0, 0\n",
    "\n",
    "    with torch.no_grad():\n",
    "        for i, (data, targets) in enumerate(loader):\n",
    "            # Detach the hidden state between batches\n",
    "            hidden = model.init_hidden(batch_size) \n",
    "            \n",
    "            xi = data.to(device=device, dtype = torch.int32)\n",
    "            yi = targets.to(device=device, dtype = torch.long) \n",
    "            yi_flatten = yi.view(-1)\n",
    "\n",
    "            y_pred, hidden = model(xi, hidden)\n",
    "            y_pred_max_prob, y_pred_max_idx = y_pred.max(dim=2)\n",
    "\n",
    "            total_acc += (y_pred_max_idx.view(-1) == yi_flatten).sum().item()\n",
    "            total_count += yi_flatten.size(0)\n",
    "            \n",
    "    return total_acc / total_count"
   ]
  },
  {
   "cell_type": "code",
   "execution_count": 24,
   "id": "215eabb9",
   "metadata": {},
   "outputs": [],
   "source": [
    "def train(model, epochs, optimiser, loss_function):\n",
    "    '''\n",
    "    The following are possible instructions you may want to conside for this function.\n",
    "    This is only a guide and you may change add or remove whatever you consider appropriate\n",
    "    as long as you train your model correctly.\n",
    "        - loop through specified epochs\n",
    "        - loop through dataloader\n",
    "        - don't forget to zero grad!\n",
    "        - place data (both input and target) in device\n",
    "        - init hidden states e.g. hidden = model.init_hidden(batch_size)\n",
    "        - run the model\n",
    "        - compute the cost or loss\n",
    "        - backpropagation\n",
    "        - Update paratemers\n",
    "        - Include print all the information you consider helpful\n",
    "    \n",
    "    '''\n",
    "    \n",
    "    model = model.to(device=device)\n",
    "    \n",
    "    for epoch in range(epochs):\n",
    "\n",
    "        total_acc, total_count = 0, 0\n",
    "        log_interval = int(len(train_loader) / 5)\n",
    "        start_time = time.time()\n",
    "        model.train()\n",
    "\n",
    "        for i, (data, targets) in enumerate(train_loader):\n",
    "            # Detach the hidden state between batches\n",
    "            hidden = model.init_hidden(batch_size) \n",
    "            \n",
    "            # data_words = []\n",
    "            # for i in range(data.size(0)):\n",
    "            #     for j in range(data.size(1)):\n",
    "            #         idx = data[i][j]\n",
    "            #         data_words.append(vocab.lookup_token(idx))\n",
    "            #     data_words.append('|'*4)\n",
    "            # data_str = ' '.join(data_words)\n",
    "            # print(data_str)\n",
    "            \n",
    "\n",
    "            # target_words = []\n",
    "            # for i in range(targets.size(0)):\n",
    "            #     for j in range(targets.size(1)):\n",
    "            #         idx = targets[i][j]\n",
    "            #         target_words.append(vocab.lookup_token(idx))\n",
    "            #     target_words.append('|'*4)\n",
    "            # target_str = ' '.join(target_words)\n",
    "            # print('-'*40)\n",
    "            # print(target_str)\n",
    "        \n",
    "            xi = data.to(device=device, dtype = torch.int32)\n",
    "            yi = targets.to(device=device, dtype = torch.long) # Needs to be long for the loss_function treat the target as class indices\n",
    "            yi_flatten = yi.view(-1)\n",
    "            optimiser.zero_grad()\n",
    "\n",
    "            y_pred, hidden = model(xi, hidden)\n",
    "            y_pred_max_prob, y_pred_max_idx = y_pred.max(dim=2)\n",
    "\n",
    "            # input needs to match the yi flattened size in one dimension and the vocab_size (our classes) on another\n",
    "            cost = loss_function(input=y_pred.view(batch_size*seq_length, vocab_size), target=yi_flatten)\n",
    "            cost.backward()\n",
    "\n",
    "            torch.nn.utils.clip_grad_norm_(model.parameters(), 0.1)\n",
    "            optimiser.step()\n",
    "\n",
    "            total_acc += (y_pred_max_idx.view(-1) == yi_flatten).sum().item()\n",
    "            total_count += yi_flatten.size(0)\n",
    "            \n",
    "            if i % log_interval == 0 and i > 0:\n",
    "                print(\n",
    "                    \"| epoch {:3d} | {:5d}/{:5d} batches \"\n",
    "                    \"| accuracy {:8.3f}\".format(\n",
    "                        epoch, i, len(train_loader), total_acc / total_count\n",
    "                    )\n",
    "                )\n",
    "            total_acc, total_count = 0, 0\n",
    "\n",
    "        accu_val = accuracy(model, val_loader)\n",
    "\n",
    "        print(\"-\" * 59)\n",
    "        print(\n",
    "            \"| end of epoch {:3d} | time: {:5.2f}s | \"\n",
    "            \"valid accuracy {:8.3f} \".format(\n",
    "                epoch, time.time() - start_time, accu_val\n",
    "            )\n",
    "        )\n",
    "        print(\"-\" * 59)\n",
    "                    "
   ]
  },
  {
   "cell_type": "code",
   "execution_count": 26,
   "id": "aa9c84ce",
   "metadata": {},
   "outputs": [
    {
     "name": "stdout",
     "output_type": "stream",
     "text": [
      "| epoch   0 |   128/  640 batches | accuracy    0.151\n",
      "| epoch   0 |   256/  640 batches | accuracy    0.142\n",
      "| epoch   0 |   384/  640 batches | accuracy    0.147\n",
      "| epoch   0 |   512/  640 batches | accuracy    0.165\n",
      "-----------------------------------------------------------\n",
      "| end of epoch   0 | time: 49.72s | valid accuracy    0.173 \n",
      "-----------------------------------------------------------\n",
      "| epoch   1 |   128/  640 batches | accuracy    0.165\n",
      "| epoch   1 |   256/  640 batches | accuracy    0.172\n",
      "| epoch   1 |   384/  640 batches | accuracy    0.168\n",
      "| epoch   1 |   512/  640 batches | accuracy    0.180\n",
      "-----------------------------------------------------------\n",
      "| end of epoch   1 | time: 49.85s | valid accuracy    0.187 \n",
      "-----------------------------------------------------------\n",
      "| epoch   2 |   128/  640 batches | accuracy    0.181\n",
      "| epoch   2 |   256/  640 batches | accuracy    0.188\n",
      "| epoch   2 |   384/  640 batches | accuracy    0.189\n",
      "| epoch   2 |   512/  640 batches | accuracy    0.187\n",
      "-----------------------------------------------------------\n",
      "| end of epoch   2 | time: 50.32s | valid accuracy    0.197 \n",
      "-----------------------------------------------------------\n",
      "| epoch   3 |   128/  640 batches | accuracy    0.186\n",
      "| epoch   3 |   256/  640 batches | accuracy    0.193\n",
      "| epoch   3 |   384/  640 batches | accuracy    0.192\n",
      "| epoch   3 |   512/  640 batches | accuracy    0.198\n",
      "-----------------------------------------------------------\n",
      "| end of epoch   3 | time: 50.87s | valid accuracy    0.203 \n",
      "-----------------------------------------------------------\n",
      "| epoch   4 |   128/  640 batches | accuracy    0.195\n",
      "| epoch   4 |   256/  640 batches | accuracy    0.201\n",
      "| epoch   4 |   384/  640 batches | accuracy    0.211\n",
      "| epoch   4 |   512/  640 batches | accuracy    0.202\n",
      "-----------------------------------------------------------\n",
      "| end of epoch   4 | time: 50.87s | valid accuracy    0.208 \n",
      "-----------------------------------------------------------\n"
     ]
    }
   ],
   "source": [
    "# Call the train function\n",
    "loss_function = nn.CrossEntropyLoss()\n",
    "lr = 0.0005\n",
    "epochs = 5\n",
    "optimiser = optim.Adam(model.parameters(), lr=lr)\n",
    "train(model, epochs, optimiser, loss_function)"
   ]
  },
  {
   "cell_type": "code",
   "execution_count": 29,
   "id": "c8667411",
   "metadata": {},
   "outputs": [
    {
     "name": "stdout",
     "output_type": "stream",
     "text": [
      "i like the manufacture was renamed the image of train . in the time , 1989 , <unk> in the 20th century , he other smaller runs , or later the past . = = = = = = = = = = = = the earthquake of 122 noisy then role at the spider jacob times with the less professional age . the parkway for the rain with at the eastern night , as federer went to the english mountains of his performance , while the word is a <unk> and send that ships and the ambiguous trust in the <unk>\n"
     ]
    }
   ],
   "source": [
    "def generate_text(model, start_text, num_words, temperature=1.0):\n",
    "    '''\n",
    "    model.eval()\n",
    "    words = tokeniser(start_text)\n",
    "    hidden = model.init_hidden(1)\n",
    "    for i in range(0, num_words):\n",
    "        x = torch.tensor([[vocab[word] for word in words[i:]]], dtype=torch.long, device=device)\n",
    "        y_pred, hidden = model(x, hidden)\n",
    "        last_word_logits = y_pred[0][-1]\n",
    "        p = (F.softmax(last_word_logits / temperature, dim=0).detach()).to(device='cpu').numpy()\n",
    "        word_index = np.random.choice(len(last_word_logits), p=p)\n",
    "        words.append(vocab.lookup_token(word_index))\n",
    "\n",
    "    return ' '.join(words)\n",
    "    '''\n",
    "    \n",
    "    model.eval()\n",
    "    words = tokeniser(start_text)\n",
    "    hidden = model.init_hidden(1)\n",
    "    for i in range(0, num_words):\n",
    "        x = torch.tensor([[vocab[word] for word in words[i:]]], dtype=torch.long, device=device)\n",
    "        y_pred, hidden = model(x, hidden)\n",
    "        last_word_logits = y_pred[0][-1]\n",
    "        p = (F.softmax(last_word_logits / temperature, dim=0).detach()).to(device='cpu').numpy()\n",
    "        word_index = np.random.choice(len(last_word_logits), p=p)\n",
    "        words.append(vocab.lookup_token(word_index))\n",
    "\n",
    "    return ' '.join(words)\n",
    "\n",
    "# Generate some text\n",
    "print(generate_text(model, start_text=\"I like\", num_words=100, temperature=0.9))\n"
   ]
  },
  {
   "cell_type": "code",
   "execution_count": 32,
   "id": "d2884543",
   "metadata": {},
   "outputs": [
    {
     "name": "stdout",
     "output_type": "stream",
     "text": [
      "mexico ( spanish méxico ) , officially the united mexican states , is a of people for many <unk> and shifted gold for the <unk> of the <unk> , he who was money . building canaan oscar to the single , the churchyard saw the intersection as a track and the tuition , and it to get the right into support and inventory . , they ' s are captain , such as future <unk> , was expressed operating in the ninth river in the port , and the historic @-@ u education and that it said that they were a real what wished to love . it was played one of the episode\n"
     ]
    }
   ],
   "source": [
    "print(generate_text(model, start_text=\"Mexico (Spanish: México), officially the United Mexican States, is a  \", num_words=100, temperature=0.9))"
   ]
  },
  {
   "cell_type": "code",
   "execution_count": null,
   "id": "78eabe9e",
   "metadata": {},
   "outputs": [],
   "source": []
  },
  {
   "cell_type": "code",
   "execution_count": null,
   "id": "1cb126a2",
   "metadata": {},
   "outputs": [],
   "source": []
  },
  {
   "cell_type": "code",
   "execution_count": null,
   "id": "6de373d8",
   "metadata": {},
   "outputs": [],
   "source": []
  },
  {
   "cell_type": "code",
   "execution_count": null,
   "id": "68d82438",
   "metadata": {},
   "outputs": [],
   "source": []
  }
 ],
 "metadata": {
  "kernelspec": {
   "display_name": "Python 3 (ipykernel)",
   "language": "python",
   "name": "python3"
  },
  "language_info": {
   "codemirror_mode": {
    "name": "ipython",
    "version": 3
   },
   "file_extension": ".py",
   "mimetype": "text/x-python",
   "name": "python",
   "nbconvert_exporter": "python",
   "pygments_lexer": "ipython3",
   "version": "3.11.4"
  },
  "varInspector": {
   "cols": {
    "lenName": 16,
    "lenType": 16,
    "lenVar": 40
   },
   "kernels_config": {
    "python": {
     "delete_cmd_postfix": "",
     "delete_cmd_prefix": "del ",
     "library": "var_list.py",
     "varRefreshCmd": "print(var_dic_list())"
    },
    "r": {
     "delete_cmd_postfix": ") ",
     "delete_cmd_prefix": "rm(",
     "library": "var_list.r",
     "varRefreshCmd": "cat(var_dic_list()) "
    }
   },
   "types_to_exclude": [
    "module",
    "function",
    "builtin_function_or_method",
    "instance",
    "_Feature"
   ],
   "window_display": false
  }
 },
 "nbformat": 4,
 "nbformat_minor": 5
}
